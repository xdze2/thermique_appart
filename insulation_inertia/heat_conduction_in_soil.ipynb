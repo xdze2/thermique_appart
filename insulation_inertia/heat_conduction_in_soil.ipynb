{
 "cells": [
  {
   "cell_type": "markdown",
   "metadata": {},
   "source": [
    "# Heat penetration in soil\n",
    "\n",
    "see page 319 Conduction of Heat in Solids, H.S. Carslaw\n",
    "\n",
    "Surface temperature: $v(t, x=0) = V_0\\,sin(wt)$\n",
    "\n",
    "$$\n",
    "v(x, t) = V_0 \\, exp\\left( -x \\sqrt{\\frac{w}{2 \\kappa}} \\right) \\, sin\\left( wt - x \\sqrt{\\frac{w}{2 \\kappa}} \\right)\n",
    "$$\n",
    "\n",
    "* Thermal diffusivity: $\\kappa = \\frac{k}{\\rho Cp}$ in $m^2/s$\n",
    "* Thermal conduction: $k$  (or $\\lambda$), in $W/m/K$\n",
    "* Density: $\\rho$ in $kg/m^3$\n",
    "* Specific heat (chaleur volumic): $C_p$  in $J/kg/K$"
   ]
  },
  {
   "cell_type": "code",
   "execution_count": 2,
   "metadata": {},
   "outputs": [],
   "source": [
    "import numpy as np"
   ]
  },
  {
   "cell_type": "code",
   "execution_count": 3,
   "metadata": {},
   "outputs": [],
   "source": [
    "w_day = 2*np.pi / (24 * 60 * 60)\n",
    "w_year = 2*np.pi / (24 * 60 * 60 * 365)"
   ]
  },
  {
   "cell_type": "code",
   "execution_count": 24,
   "metadata": {},
   "outputs": [],
   "source": [
    "def penetration_depth(kappa):\n",
    "    delta_day = np.sqrt( 2*kappa/w_day )\n",
    "    delta_year = np.sqrt( 2*kappa/w_year )\n",
    "    \n",
    "    return delta_year, delta_day"
   ]
  },
  {
   "cell_type": "code",
   "execution_count": 7,
   "metadata": {},
   "outputs": [],
   "source": [
    "materials = {}"
   ]
  },
  {
   "cell_type": "code",
   "execution_count": 21,
   "metadata": {},
   "outputs": [],
   "source": [
    "# \n",
    "materials['concrete']  = {'k':1.8, 'rho':2300, 'Cp':1000}\n",
    "materials['wood_wool'] = {'k':0.04, 'rho':160, 'Cp':2100}\n",
    "materials['PSE'] = {'k':0.04, 'rho':34, 'Cp':145}\n",
    "materials['clay'] = {'k':1.28, 'rho':880, 'Cp':1450}"
   ]
  },
  {
   "cell_type": "code",
   "execution_count": 22,
   "metadata": {},
   "outputs": [],
   "source": [
    "# Compute Thermal diffusivity : \n",
    "for props in materials.values():\n",
    "    if 'kappa' not in props:\n",
    "        props['kappa'] = props['k']/props['rho']/props['Cp']"
   ]
  },
  {
   "cell_type": "code",
   "execution_count": 52,
   "metadata": {},
   "outputs": [
    {
     "name": "stdout",
     "output_type": "stream",
     "text": [
      "           year, day  penetration depth  in meter\n",
      " wood_wool  1.09  0.06\n",
      "      clay  3.17  0.17\n",
      "       PSE  9.02  0.47\n",
      "  concrete  2.80  0.15\n"
     ]
    }
   ],
   "source": [
    "print('           year, day  penetration depth  in meter')\n",
    "for name, props in materials.items():\n",
    "    line = '{:>10}  {:.2f}  {:.2f}'.format(name, *penetration_depth(props['kappa']))\n",
    "    \n",
    "    print(line)"
   ]
  },
  {
   "cell_type": "code",
   "execution_count": null,
   "metadata": {},
   "outputs": [],
   "source": []
  }
 ],
 "metadata": {
  "kernelspec": {
   "display_name": "Python 3",
   "language": "python",
   "name": "python3"
  },
  "language_info": {
   "codemirror_mode": {
    "name": "ipython",
    "version": 3
   },
   "file_extension": ".py",
   "mimetype": "text/x-python",
   "name": "python",
   "nbconvert_exporter": "python",
   "pygments_lexer": "ipython3",
   "version": "3.4.3"
  }
 },
 "nbformat": 4,
 "nbformat_minor": 2
}
